{
 "cells": [
  {
   "cell_type": "code",
   "execution_count": 3,
   "metadata": {
    "scrolled": true
   },
   "outputs": [
    {
     "name": "stdout",
     "output_type": "stream",
     "text": [
      "(82852, 118)\n",
      "components_ [[ 6.78347919e-04 -3.56375468e-02 -5.02251827e-04 ... -6.37532324e-01\n",
      "  -7.89272220e-02  4.70975930e-01]\n",
      " [-1.99899185e-04  1.10974899e-02  4.36509704e-04 ...  3.57349926e-02\n",
      "   9.55178892e-01  2.86880185e-01]\n",
      " [ 8.62375517e-04 -2.53826910e-02 -6.54923523e-04 ...  4.13168545e-01\n",
      "  -2.77352692e-01  8.23678960e-01]\n",
      " ...\n",
      " [-8.36463325e-03  4.16917914e-02 -5.36513156e-03 ... -1.52619656e-02\n",
      "   3.09476848e-03 -1.48607053e-02]\n",
      " [-4.54155516e-03  1.35221947e-02 -2.39275164e-04 ... -2.11086410e-02\n",
      "  -9.50207271e-03  1.07076692e-02]\n",
      " [-4.65166476e-02  7.89233061e-02 -2.57152567e-02 ...  5.35080072e-04\n",
      "  -6.37697117e-04  2.84320436e-04]] (16, 118)\n",
      "explained_variance_ [1.52654407 1.01262004 0.84373884 0.57604238 0.30110967 0.22341047\n",
      " 0.20091109 0.11588868 0.10298952 0.08463428 0.07574845 0.06117438\n",
      " 0.05952792 0.05411945 0.05094886 0.02807092]\n",
      "explained_variance_ratio_ [0.27393675 0.18171361 0.15140806 0.10337021 0.05403382 0.04009078\n",
      " 0.03605329 0.0207961  0.01848136 0.01518753 0.01359298 0.01097768\n",
      " 0.01068222 0.00971168 0.00914272 0.0050373 ]\n",
      "singular_values_ [355.63422656 289.6490688  264.39479313 218.46209586 157.94694423\n",
      " 136.05065479 129.01815793  97.9872101   92.37307145  83.73789495\n",
      "  79.22016553  71.19240576  70.2278261   66.96156096  64.97048572\n",
      "  48.22554776]\n",
      "mean_ [ 1.07541158e-02  6.16448607e-01  7.22975909e-03  2.25582967e-02\n",
      "  5.78139333e-03  9.92130546e-03  1.12248346e-03  5.31067446e-03\n",
      "  3.06329358e-02  6.63834307e-04  1.93115435e-03  8.20740598e-04\n",
      "  1.61734177e-03  6.56592478e-03  1.95408681e-02  1.67781104e-01\n",
      "  1.42060542e-02  5.56413846e-03  8.91951914e-03  2.28117607e-03\n",
      "  1.11162072e-02  3.40365954e-03  1.00178632e-03  1.51716313e-02\n",
      "  4.27267899e-03  1.77424806e-03  1.90701492e-03  5.21411674e-03\n",
      "  1.64872302e-02  7.54948583e-01  2.45051417e-01  8.83623811e-02\n",
      "  6.67310385e-01  1.90954956e-01  5.19963308e-02  1.36387776e-03\n",
      "  1.20697147e-05  9.96801526e-01  3.25882296e-04  1.41215662e-03\n",
      "  5.67276590e-04  5.55206875e-04  1.44836576e-04  1.93115435e-04\n",
      "  6.15760633e-01  3.19497417e-01  6.47419495e-02  8.28911795e-01\n",
      "  7.64254333e-02  4.56718003e-02  1.73321103e-02  4.71925844e-03\n",
      "  2.33307585e-02  2.30531550e-03  1.07420461e-03  2.29324579e-04\n",
      "  8.40969439e-01  2.49843094e-03  6.15555448e-04  4.15198185e-02\n",
      "  9.93820306e-02  2.45015208e-03  1.77424806e-03  1.32766861e-04\n",
      "  1.76217834e-03  6.03485734e-05  6.51764592e-04  2.29324579e-04\n",
      "  3.62091440e-05  1.49664462e-03  4.82788587e-05  3.01742867e-04\n",
      "  1.33973833e-03  1.08627432e-04  7.24182880e-05  5.79346304e-04\n",
      "  4.10370299e-04  1.93115435e-04  3.62091440e-05  6.39694878e-04\n",
      "  1.20697147e-05  6.03485734e-05  1.93115435e-04  3.62091440e-05\n",
      "  3.86230870e-04  2.05185149e-04  7.00043451e-04  1.32766861e-04\n",
      "  1.08627432e-04  9.65577174e-05  8.44880027e-05  1.20697147e-05\n",
      "  4.82788587e-05  1.20697147e-05  1.20697147e-05  1.20697147e-05\n",
      "  1.20697147e-05  2.41394293e-05  4.82788587e-05  8.44880027e-05\n",
      "  3.62091440e-05  2.41394293e-05  1.20697147e-05  2.41394293e-05\n",
      "  2.41394293e-05  1.20697147e-05  2.41394293e-05  1.20697147e-05\n",
      "  1.08627432e-04  3.62091440e-05  1.20697147e-05  2.41394293e-05\n",
      "  1.20697147e-05  2.41394293e-05  2.41394293e-05 -6.79919812e-18\n",
      "  1.34160413e-15  1.66675494e-16]\n",
      "n_components_ 16\n",
      "noise_variance_ 0.0025013350267157463\n",
      "[[ 0.          1.          0.         ...  0.50949896 -0.13076938\n",
      "  -1.08836104]\n",
      " [ 0.          0.          0.         ...  0.43940786 -0.13076938\n",
      "  -0.53935753]\n",
      " [ 0.          0.          0.         ... -0.12132094 -0.13076938\n",
      "   0.00964599]\n",
      " ...\n",
      " [ 0.          1.          0.         ...  0.78986335 -0.13076938\n",
      "  -0.85307382]\n",
      " [ 0.          1.          0.         ...  0.78986335 -0.13076938\n",
      "   3.48666824]\n",
      " [ 0.          1.          0.         ... -1.31286963 -0.13076938\n",
      "  -0.53935753]]\n",
      "After inverse pca [[ 8.85037144e-04  9.98362849e-01  3.53545286e-03 ...  5.12203512e-01\n",
      "  -1.31497552e-01 -1.08778280e+00]\n",
      " [ 3.81909488e-03 -4.42935435e-03  3.76651128e-03 ...  4.40107472e-01\n",
      "  -1.32449085e-01 -5.36984920e-01]\n",
      " [ 4.12915458e-02  4.09516612e-02  3.12020892e-02 ... -1.21349701e-01\n",
      "  -1.30563513e-01  8.94470770e-03]\n",
      " ...\n",
      " [-5.07271519e-03  9.99371371e-01  3.05200676e-03 ...  7.89472043e-01\n",
      "  -1.30777367e-01 -8.52961257e-01]\n",
      " [-2.38508696e-03  9.95806843e-01 -5.25396900e-03 ...  7.89675933e-01\n",
      "  -1.30727238e-01  3.48575129e+00]\n",
      " [ 1.20529455e-03  9.92655149e-01 -1.36802197e-03 ... -1.31639252e+00\n",
      "  -1.33191999e-01 -5.36795872e-01]]\n",
      "After inverse std [[ 8.85037144e-04  9.98362849e-01  3.53545286e-03 ...  5.30385863e+01\n",
      "  -2.68836310e-04  2.50789951e-01]\n",
      " [ 3.81909488e-03 -4.42935435e-03  3.76651128e-03 ...  5.20099815e+01\n",
      "  -6.20133562e-04  1.00324125e+00]\n",
      " [ 4.12915458e-02  4.09516612e-02  3.12020892e-02 ...  4.39995897e+01\n",
      "   7.60022786e-05  1.74904198e+00]\n",
      " ...\n",
      " [-5.07271519e-03  9.99371371e-01  3.05200676e-03 ...  5.69944171e+01\n",
      "  -2.95038540e-06  5.71582349e-01]\n",
      " [-2.38508696e-03  9.95806843e-01 -5.25396900e-03 ...  5.69973260e+01\n",
      "   1.55567247e-05  6.49874735e+00]\n",
      " [ 1.20529455e-03  9.92655149e-01 -1.36802197e-03 ...  2.69497385e+01\n",
      "  -8.94410434e-04  1.00349951e+00]]\n"
     ]
    },
    {
     "data": {
      "image/png": "[encoded data removed]",
      "text/plain": [
       "<Figure size 360x288 with 1 Axes>"
      ]
     },
     "metadata": {},
     "output_type": "display_data"
    },
    {
     "data": {
      "image/png": "[encoded data removed]",
      "text/plain": [
       "<Figure size 360x288 with 1 Axes>"
      ]
     },
     "metadata": {},
     "output_type": "display_data"
    },
    {
     "name": "stdout",
     "output_type": "stream",
     "text": [
      "PCA finished\n"
     ]
    },
    {
     "ename": "NameError",
     "evalue": "name 'decode' is not defined",
     "output_type": "error",
     "traceback": [
      "\u001b[0;31m---------------------------------------------------------------------------\u001b[0m",
      "\u001b[0;31mNameError\u001b[0m                                 Traceback (most recent call last)",
      "\u001b[0;32m<ipython-input-3-14951d300bf7>\u001b[0m in \u001b[0;36m<module>\u001b[0;34m()\u001b[0m\n\u001b[1;32m      1\u001b[0m \u001b[0mget_ipython\u001b[0m\u001b[0;34m(\u001b[0m\u001b[0;34m)\u001b[0m\u001b[0;34m.\u001b[0m\u001b[0mrun_line_magic\u001b[0m\u001b[0;34m(\u001b[0m\u001b[0;34m'run'\u001b[0m\u001b[0;34m,\u001b[0m \u001b[0;34m'analysis2.py'\u001b[0m\u001b[0;34m)\u001b[0m\u001b[0;34m\u001b[0m\u001b[0m\n\u001b[0;32m----> 2\u001b[0;31m \u001b[0mprint\u001b[0m\u001b[0;34m(\u001b[0m\u001b[0mdecode\u001b[0m\u001b[0;34m.\u001b[0m\u001b[0mshape\u001b[0m\u001b[0;34m)\u001b[0m\u001b[0;34m\u001b[0m\u001b[0m\n\u001b[0m",
      "\u001b[0;31mNameError\u001b[0m: name 'decode' is not defined"
     ]
    }
   ],
   "source": [
    "import matplotlib.pyplot as plt\n",
    "import torch\n",
    "from torch.autograd import Variable\n",
    "from model import *\n",
    "import argparse\n",
    "from collections import defaultdict\n",
    "parser = argparse.ArgumentParser(description='Process some integers.')\n",
    "parser.add_argument('-model',default='GAN',help=\"The GAN model we used. Default is WGAN-GP.\")\n",
    "parser.add_argument('-hs',default=50,help=\"Hidden unit number for both D and G.\")\n",
    "parser.add_argument('-syn',default=1000,help=\"Synthetic records number.\")\n",
    "args = parser.parse_args()\n",
    "arg_dict = vars(args)\n",
    "\n",
    "# Model params\n",
    "g_input_size = 100     # Random noise dimension coming into generator, per output vector\n",
    "g_hidden_size = int(arg_dict['hs'])   # Generator complexity\n",
    "g_output_size = 16    # size of generated output vector\n",
    "d_input_size = 16   # Minibatch size - cardinality of distributions\n",
    "d_hidden_size = g_hidden_size   # Discriminator complexity\n",
    "d_output_size = 1    # Single dimension for 'real' vs. 'fake'\n",
    "minibatch_size = 100\n",
    "syn_size = int(arg_dict['syn'])\n",
    "\n",
    "MODEL = 'GAN'#arg_dict['model'] # 'GAN', 'GAN_Gumbel_softmax', 'WGAN_GP'\n",
    "var_num = [29,2,1,6,7,59,1,24,76,711,3,9,1]\n",
    "\n",
    "# Create Generator and Discriminator object\n",
    "if MODEL == 'WGAN_GP':\n",
    "    G = Generator_WGANGP(input_size=g_input_size, hidden_size=g_hidden_size, output_size=g_output_size)\n",
    "    # G.no_dropout()\n",
    "else:\n",
    "    G = Generator_basic(input_size=g_input_size, hidden_size=g_hidden_size, output_size=g_output_size)\n",
    "\n",
    "# Load generate model, real dataset, sampler, and decoder\n",
    "state_dict = torch.load(MODEL+'/G_model.model')\n",
    "G.load_state_dict(state_dict)\n",
    "table = np.load('ICEM_preprocessed_new.npy')\n",
    "# print(table[:,2])\n",
    "ppp = PreprocessPCAPostprocess(table, [True,True,False,True,True,True,True,True,False,False])\n",
    "ppp.preprocess()\n",
    "ppp.pca_fit()\n",
    "\n",
    "var_distinct = np.load('categories.npy')\n",
    "\n",
    "sampler = Sampler(table, minibatch_size)\n",
    "gi_sampler = sampler.get_generator_input_sampler()\n",
    "\n",
    "gen_input = Variable(gi_sampler(syn_size, g_input_size))\n",
    "g_fake_data = G(gen_input)\n",
    "decode = ppp.decode(g_fake_data.detach().numpy())\n",
    "\n",
    "# dr = DisclosureRisk(len(decode),table.shape[0])\n",
    "# dr.classification_matrix(np.array(decode),table)\n",
    "# print(dr.output(mode='max'))\n",
    "\n",
    "table = np.load('ICEM_preprocessed_new.npy')\n",
    "# table = table[:,[0,1,3,4,6,7,8,2,5,9]]\n",
    "decode = decode[:,[0,1,7,2,3,8,4,5,6,9]]\n",
    "fig = plt.figure(figsize=(8,8))\n",
    "for i in range(10):\n",
    "    j=i\n",
    "    if i == 5:\n",
    "        plt.tight_layout()\n",
    "        plt.savefig(MODEL+'/vars1.pdf', format='pdf')\n",
    "        fig = plt.figure(figsize=(8,8))\n",
    "    if i>=5:\n",
    "        j = i-5\n",
    "    # real data histogram \n",
    "    \n",
    "    ax = fig.add_subplot(5,2,j*2+1)\n",
    "\n",
    "    a,b,c = ax.hist(table[:,i])\n",
    "    ax.set_title('real variable ' + str(i))\n",
    "    print(i,a/float(table.shape[0]))\n",
    "    # synthetic data histogram\n",
    "    ax = fig.add_subplot(5,2,j*2+2)\n",
    "    a,b,c = ax.hist(decode[:,i],bins = b)\n",
    "    ax.set_title('synthetic variable ' + str(i))\n",
    "    print(i,a/float(decode.shape[0]))\n",
    "plt.tight_layout()\n",
    "plt.savefig(MODEL+'/vars2.pdf', format='pdf')\n",
    "# plt.show()"
   ]
  },
  {
   "cell_type": "code",
   "execution_count": 28,
   "metadata": {},
   "outputs": [
    {
     "data": {
      "text/plain": [
       "Power_divergenceResult(statistic=121.8525247453978, pvalue=0.05935957060642712)"
      ]
     },
     "execution_count": 28,
     "metadata": {},
     "output_type": "execute_result"
    }
   ],
   "source": [
    "from scipy import stats\n",
    "import numpy as np\n",
    "\n",
    "x = np.linspace(-15, 15, 9)\n",
    "stats.kstest(x, 'norm')\n",
    "\n",
    "np.random.seed(987654321)\n",
    "stats.kstest('norm', False, N=100)\n",
    "\n",
    "x = stats.norm.rvs(loc=0.2, size=100)\n",
    "y = stats.norm.rvs(loc=0.2, size=100)\n",
    "stats.ks_2samp(x,y)\n",
    "stats.chisquare(x,f_exp = y)"
   ]
  }
 ],
 "metadata": {
  "kernelspec": {
   "display_name": "Python 3",
   "language": "python",
   "name": "python3"
  },
  "language_info": {
   "codemirror_mode": {
    "name": "ipython",
    "version": 3
   },
   "file_extension": ".py",
   "mimetype": "text/x-python",
   "name": "python",
   "nbconvert_exporter": "python",
   "pygments_lexer": "ipython3",
   "version": "3.6.5"
  }
 },
 "nbformat": 4,
 "nbformat_minor": 2
}
